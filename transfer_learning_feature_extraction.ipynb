{
  "nbformat": 4,
  "nbformat_minor": 0,
  "metadata": {
    "colab": {
      "provenance": [],
      "gpuType": "T4",
      "authorship_tag": "ABX9TyNgEoBbSpzNyhYQesno49V4",
      "include_colab_link": true
    },
    "kernelspec": {
      "name": "python3",
      "display_name": "Python 3"
    },
    "language_info": {
      "name": "python"
    },
    "accelerator": "GPU"
  },
  "cells": [
    {
      "cell_type": "markdown",
      "metadata": {
        "id": "view-in-github",
        "colab_type": "text"
      },
      "source": [
        "<a href=\"https://colab.research.google.com/github/BhaktiGajipara/LLM/blob/main/transfer_learning_feature_extraction.ipynb\" target=\"_parent\"><img src=\"https://colab.research.google.com/assets/colab-badge.svg\" alt=\"Open In Colab\"/></a>"
      ]
    },
    {
      "cell_type": "code",
      "source": [],
      "metadata": {
        "id": "1u7pQzyAPNb_"
      },
      "execution_count": null,
      "outputs": []
    },
    {
      "cell_type": "code",
      "source": [
        "! mkdir -p ~/.kaggle\n",
        "! cp kaggle.json ~/.kaggle/"
      ],
      "metadata": {
        "colab": {
          "base_uri": "https://localhost:8080/"
        },
        "id": "GpvFvfqmPNYV",
        "outputId": "a9b018da-6401-4a8c-8688-bd4eb7e28c78"
      },
      "execution_count": 20,
      "outputs": [
        {
          "output_type": "stream",
          "name": "stdout",
          "text": [
            "cp: cannot stat 'kaggle.json': No such file or directory\n"
          ]
        }
      ]
    },
    {
      "cell_type": "code",
      "source": [
        "!kaggle datasets download -d salader/dogs-vs-cats"
      ],
      "metadata": {
        "colab": {
          "base_uri": "https://localhost:8080/"
        },
        "id": "XpOsAkLoPNRO",
        "outputId": "30af5045-2c89-4e74-d041-e12ba80dc4ac"
      },
      "execution_count": 21,
      "outputs": [
        {
          "output_type": "stream",
          "name": "stdout",
          "text": [
            "Warning: Looks like you're using an outdated API Version, please consider updating (server 1.6.17 / client 1.6.14)\n",
            "Dataset URL: https://www.kaggle.com/datasets/salader/dogs-vs-cats\n",
            "License(s): unknown\n",
            "Downloading dogs-vs-cats.zip to /content\n",
            "100% 1.06G/1.06G [00:51<00:00, 22.7MB/s]\n",
            "100% 1.06G/1.06G [00:51<00:00, 22.0MB/s]\n"
          ]
        }
      ]
    },
    {
      "cell_type": "code",
      "source": [
        "import zipfile\n",
        "zip_ref = zipfile.ZipFile('/content/dogs-vs-cats.zip','r')\n",
        "zip_ref.extractall('/content')\n",
        "zip_ref.close()"
      ],
      "metadata": {
        "id": "kQpUAgLiPNGQ"
      },
      "execution_count": 22,
      "outputs": []
    },
    {
      "cell_type": "code",
      "execution_count": 1,
      "metadata": {
        "colab": {
          "base_uri": "https://localhost:8080/"
        },
        "id": "XRDkfWCHJgda",
        "outputId": "18e049ac-ebd3-4651-9165-ddcfb29ca89b"
      },
      "outputs": [
        {
          "output_type": "stream",
          "name": "stdout",
          "text": [
            "Mounted at /content/drive\n"
          ]
        }
      ],
      "source": [
        "from google.colab import drive\n",
        "drive.mount('/content/drive')"
      ]
    },
    {
      "cell_type": "code",
      "source": [
        "import zipfile\n",
        "import os\n",
        "\n",
        "# Define the paths to the ZIP files\n",
        "zip_path1 = '/content/drive/My Drive/training_data.zip'\n",
        "zip_path2 = '/content/drive/My Drive/testing_data.zip'\n",
        "\n",
        "# Define the extraction paths\n",
        "extract_path1 = '/content/training_data'\n",
        "extract_path2 = '/content/testing_data'\n",
        "\n",
        "# Create the extraction directories if they don't exist\n",
        "os.makedirs(extract_path1, exist_ok=True)\n",
        "os.makedirs(extract_path2, exist_ok=True)\n",
        "\n",
        "# Unzip the first file\n",
        "with zipfile.ZipFile(zip_path1, 'r') as zip_ref:\n",
        "    zip_ref.extractall(extract_path1)\n",
        "\n",
        "# Unzip the second file\n",
        "with zipfile.ZipFile(zip_path2, 'r') as zip_ref:\n",
        "    zip_ref.extractall(extract_path2)\n",
        "\n",
        "print('Unzipping of both files complete!')"
      ],
      "metadata": {
        "colab": {
          "base_uri": "https://localhost:8080/"
        },
        "id": "bb5rtmzSJvu7",
        "outputId": "f99d764c-821c-4090-e183-76408e011347"
      },
      "execution_count": 2,
      "outputs": [
        {
          "output_type": "stream",
          "name": "stdout",
          "text": [
            "Unzipping of both files complete!\n"
          ]
        }
      ]
    },
    {
      "cell_type": "code",
      "source": [
        "import tensorflow\n",
        "from tensorflow import keras\n",
        "from keras.src.utils import image_dataset\n",
        "from keras import Sequential\n",
        "from keras.layers import Flatten,Dense\n",
        "from keras.applications.vgg16 import VGG16"
      ],
      "metadata": {
        "id": "EP4Ej70ZJvri"
      },
      "execution_count": 3,
      "outputs": []
    },
    {
      "cell_type": "code",
      "source": [
        "conv_base = VGG16(weights = \"imagenet\",\n",
        "                  include_top = False,\n",
        "                  input_shape = (150,150,3))"
      ],
      "metadata": {
        "colab": {
          "base_uri": "https://localhost:8080/"
        },
        "id": "G4Hgd711JvpF",
        "outputId": "cb0748e5-6f4b-4693-96e8-0b3e763f4ac5"
      },
      "execution_count": 4,
      "outputs": [
        {
          "output_type": "stream",
          "name": "stdout",
          "text": [
            "Downloading data from https://storage.googleapis.com/tensorflow/keras-applications/vgg16/vgg16_weights_tf_dim_ordering_tf_kernels_notop.h5\n",
            "58889256/58889256 [==============================] - 4s 0us/step\n"
          ]
        }
      ]
    },
    {
      "cell_type": "code",
      "source": [
        "conv_base.summary()"
      ],
      "metadata": {
        "colab": {
          "base_uri": "https://localhost:8080/"
        },
        "id": "XwA-VDT7Jvmg",
        "outputId": "152086cc-9e02-4bd4-a922-dd54688550fe"
      },
      "execution_count": 5,
      "outputs": [
        {
          "output_type": "stream",
          "name": "stdout",
          "text": [
            "Model: \"vgg16\"\n",
            "_________________________________________________________________\n",
            " Layer (type)                Output Shape              Param #   \n",
            "=================================================================\n",
            " input_1 (InputLayer)        [(None, 150, 150, 3)]     0         \n",
            "                                                                 \n",
            " block1_conv1 (Conv2D)       (None, 150, 150, 64)      1792      \n",
            "                                                                 \n",
            " block1_conv2 (Conv2D)       (None, 150, 150, 64)      36928     \n",
            "                                                                 \n",
            " block1_pool (MaxPooling2D)  (None, 75, 75, 64)        0         \n",
            "                                                                 \n",
            " block2_conv1 (Conv2D)       (None, 75, 75, 128)       73856     \n",
            "                                                                 \n",
            " block2_conv2 (Conv2D)       (None, 75, 75, 128)       147584    \n",
            "                                                                 \n",
            " block2_pool (MaxPooling2D)  (None, 37, 37, 128)       0         \n",
            "                                                                 \n",
            " block3_conv1 (Conv2D)       (None, 37, 37, 256)       295168    \n",
            "                                                                 \n",
            " block3_conv2 (Conv2D)       (None, 37, 37, 256)       590080    \n",
            "                                                                 \n",
            " block3_conv3 (Conv2D)       (None, 37, 37, 256)       590080    \n",
            "                                                                 \n",
            " block3_pool (MaxPooling2D)  (None, 18, 18, 256)       0         \n",
            "                                                                 \n",
            " block4_conv1 (Conv2D)       (None, 18, 18, 512)       1180160   \n",
            "                                                                 \n",
            " block4_conv2 (Conv2D)       (None, 18, 18, 512)       2359808   \n",
            "                                                                 \n",
            " block4_conv3 (Conv2D)       (None, 18, 18, 512)       2359808   \n",
            "                                                                 \n",
            " block4_pool (MaxPooling2D)  (None, 9, 9, 512)         0         \n",
            "                                                                 \n",
            " block5_conv1 (Conv2D)       (None, 9, 9, 512)         2359808   \n",
            "                                                                 \n",
            " block5_conv2 (Conv2D)       (None, 9, 9, 512)         2359808   \n",
            "                                                                 \n",
            " block5_conv3 (Conv2D)       (None, 9, 9, 512)         2359808   \n",
            "                                                                 \n",
            " block5_pool (MaxPooling2D)  (None, 4, 4, 512)         0         \n",
            "                                                                 \n",
            "=================================================================\n",
            "Total params: 14714688 (56.13 MB)\n",
            "Trainable params: 14714688 (56.13 MB)\n",
            "Non-trainable params: 0 (0.00 Byte)\n",
            "_________________________________________________________________\n"
          ]
        }
      ]
    },
    {
      "cell_type": "code",
      "source": [
        "model = Sequential()\n",
        "\n",
        "model.add(conv_base)\n",
        "model.add(Flatten())\n",
        "model.add(Dense(256,activation = \"relu\"))\n",
        "model.add(Dense(1,activation =\"sigmoid\"))"
      ],
      "metadata": {
        "id": "IPG8M-nkJvjx"
      },
      "execution_count": 6,
      "outputs": []
    },
    {
      "cell_type": "code",
      "source": [
        "model.summary()"
      ],
      "metadata": {
        "colab": {
          "base_uri": "https://localhost:8080/"
        },
        "id": "cM1HtNA7Jvhj",
        "outputId": "987fdfab-b052-4cda-e796-cb37a15e91ba"
      },
      "execution_count": 7,
      "outputs": [
        {
          "output_type": "stream",
          "name": "stdout",
          "text": [
            "Model: \"sequential\"\n",
            "_________________________________________________________________\n",
            " Layer (type)                Output Shape              Param #   \n",
            "=================================================================\n",
            " vgg16 (Functional)          (None, 4, 4, 512)         14714688  \n",
            "                                                                 \n",
            " flatten (Flatten)           (None, 8192)              0         \n",
            "                                                                 \n",
            " dense (Dense)               (None, 256)               2097408   \n",
            "                                                                 \n",
            " dense_1 (Dense)             (None, 1)                 257       \n",
            "                                                                 \n",
            "=================================================================\n",
            "Total params: 16812353 (64.13 MB)\n",
            "Trainable params: 16812353 (64.13 MB)\n",
            "Non-trainable params: 0 (0.00 Byte)\n",
            "_________________________________________________________________\n"
          ]
        }
      ]
    },
    {
      "cell_type": "code",
      "source": [
        "# generator\n",
        "train_ds = keras.utils.image_dataset_from_directory(\n",
        "    directory = \"/content/train\",\n",
        "    labels = \"inferred\",\n",
        "    label_mode = \"int\",\n",
        "    batch_size = 32,\n",
        "    image_size = (150,150)\n",
        ")\n",
        "\n",
        "validation_ds = keras.utils.image_dataset_from_directory(\n",
        "    directory = \"/content/test\",\n",
        "    labels = \"inferred\",\n",
        "    label_mode = \"int\",\n",
        "    batch_size = 32,\n",
        "    image_size = (150,150)\n",
        ")"
      ],
      "metadata": {
        "colab": {
          "base_uri": "https://localhost:8080/"
        },
        "id": "CSEyJQ9-JvfA",
        "outputId": "bfeaf69a-ad43-49e5-f310-203e03807d5e"
      },
      "execution_count": 23,
      "outputs": [
        {
          "output_type": "stream",
          "name": "stdout",
          "text": [
            "Found 20000 files belonging to 2 classes.\n",
            "Found 5000 files belonging to 2 classes.\n"
          ]
        }
      ]
    },
    {
      "cell_type": "code",
      "source": [
        "# Normalize\n",
        "\n",
        "def process(image,label1):\n",
        "  image = tensorflow.cast(image/255. ,tensorflow.float32)\n",
        "  return image,label1\n",
        "\n",
        "train_ds = train_ds.map(process)\n",
        "validation_ds = validation_ds.map(process)"
      ],
      "metadata": {
        "id": "Dxt8NJ_kJvce"
      },
      "execution_count": 24,
      "outputs": []
    },
    {
      "cell_type": "code",
      "source": [
        "model.compile(optimizer = \"adam\", loss = \"binary_crossentropy\", metrics = [\"accuracy\"])"
      ],
      "metadata": {
        "id": "EE58-uazJvZ4"
      },
      "execution_count": 25,
      "outputs": []
    },
    {
      "cell_type": "code",
      "source": [
        "history = model.fit(train_ds,epochs = 10, validation_data = validation_ds)"
      ],
      "metadata": {
        "colab": {
          "base_uri": "https://localhost:8080/"
        },
        "id": "lpGWzNI7JvXg",
        "outputId": "e73856d6-7607-4bd4-b46e-f8d27e8549de"
      },
      "execution_count": 26,
      "outputs": [
        {
          "output_type": "stream",
          "name": "stdout",
          "text": [
            "Epoch 1/10\n",
            "625/625 [==============================] - 236s 372ms/step - loss: 21488370.0000 - accuracy: 0.6130 - val_loss: 0.6249 - val_accuracy: 0.6506\n",
            "Epoch 2/10\n",
            "625/625 [==============================] - 151s 241ms/step - loss: 0.5565 - accuracy: 0.7181 - val_loss: 0.5206 - val_accuracy: 0.7410\n",
            "Epoch 3/10\n",
            "625/625 [==============================] - 152s 243ms/step - loss: 0.5043 - accuracy: 0.7552 - val_loss: 0.4650 - val_accuracy: 0.7796\n",
            "Epoch 4/10\n",
            "625/625 [==============================] - 144s 230ms/step - loss: 0.4618 - accuracy: 0.7847 - val_loss: 0.4869 - val_accuracy: 0.7800\n",
            "Epoch 5/10\n",
            "625/625 [==============================] - 145s 231ms/step - loss: 0.4043 - accuracy: 0.8169 - val_loss: 0.4160 - val_accuracy: 0.8048\n",
            "Epoch 6/10\n",
            "625/625 [==============================] - 154s 247ms/step - loss: 0.3590 - accuracy: 0.8419 - val_loss: 0.3394 - val_accuracy: 0.8546\n",
            "Epoch 7/10\n",
            "625/625 [==============================] - 155s 247ms/step - loss: 0.3198 - accuracy: 0.8632 - val_loss: 0.3392 - val_accuracy: 0.8530\n",
            "Epoch 8/10\n",
            "625/625 [==============================] - 155s 247ms/step - loss: 0.2973 - accuracy: 0.8741 - val_loss: 0.3126 - val_accuracy: 0.8662\n",
            "Epoch 9/10\n",
            "625/625 [==============================] - 145s 231ms/step - loss: 0.2734 - accuracy: 0.8878 - val_loss: 0.3056 - val_accuracy: 0.8666\n",
            "Epoch 10/10\n",
            "625/625 [==============================] - 155s 248ms/step - loss: 0.2532 - accuracy: 0.8977 - val_loss: 0.2761 - val_accuracy: 0.8850\n"
          ]
        }
      ]
    },
    {
      "cell_type": "code",
      "source": [
        "model.save('transfer_learning_feature_extraction.keras')"
      ],
      "metadata": {
        "id": "n53IvI5rJvVC"
      },
      "execution_count": 28,
      "outputs": []
    },
    {
      "cell_type": "code",
      "source": [],
      "metadata": {
        "id": "8zOILtW7OsyI"
      },
      "execution_count": null,
      "outputs": []
    }
  ]
}